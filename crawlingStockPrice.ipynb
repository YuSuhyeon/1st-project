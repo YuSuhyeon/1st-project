{
 "cells": [
  {
   "cell_type": "markdown",
   "id": "f0c00c59",
   "metadata": {},
   "source": [
    "## 주가가 Crawling ㄱㄱ"
   ]
  },
  {
   "cell_type": "code",
   "execution_count": null,
   "id": "ec8c74d9",
   "metadata": {},
   "outputs": [
    {
     "name": "stdout",
     "output_type": "stream",
     "text": [
      "         date   open  close  diff  rateOpen  rateClose  rateDiff_OC  \\\n",
      "0  2025.05.02  55000  54300     0      0.00       0.00        -1.27   \n",
      "1  2025.05.07  54500  54600   300     -0.91       0.55         0.18   \n",
      "2  2025.05.08  55100  54600     0      1.10       0.00        -0.91   \n",
      "3  2025.05.09  54700  54800   200     -0.73       0.37         0.18   \n",
      "4  2025.05.12  55200  57600  2800      0.91       5.11         4.35   \n",
      "5  2025.05.13  57700  56900  -700      4.53      -1.22        -1.39   \n",
      "6  2025.05.14  57500  57400   500     -0.35       0.88        -0.17   \n",
      "7  2025.05.15  57400  57300  -100     -0.17      -0.17        -0.17   \n",
      "8  2025.05.16  57400  56800  -500      0.00      -0.87        -1.05   \n",
      "9  2025.05.19  56400  55800 -1000     -1.74      -1.76        -1.06   \n",
      "\n",
      "   rateDiff_CO  \n",
      "0         0.00  \n",
      "1         0.37  \n",
      "2         0.92  \n",
      "3         0.18  \n",
      "4         0.73  \n",
      "5         0.17  \n",
      "6         1.05  \n",
      "7         0.00  \n",
      "8         0.17  \n",
      "9        -0.70  \n"
     ]
    }
   ],
   "source": [
    "import FinanceDataReader as fdr\n",
    "import pandas as pd\n",
    "\n",
    "# 1. 데이터 불러오기 (삼성전자) 지정한 날짜 부터\n",
    "df = fdr.DataReader('005930', '2025-05-01')\n",
    "\n",
    "# 2. 필요한 컬럼만 추출 및 이름 변경\n",
    "df = df.reset_index()\n",
    "df = df[['Date', 'Open', 'Close']]\n",
    "df.columns = ['date', 'open', 'close']\n",
    "\n",
    "# 3. 날짜 포맷 변경 (YYYY.MM.DD)\n",
    "df['date'] = df['date'].dt.strftime('%Y.%m.%d')\n",
    "\n",
    "# 4. diff (종가 - 전날종가)\n",
    "df['diff'] = df['close'].diff().fillna(0).astype(int)\n",
    "\n",
    "# 5. rateOpen: (오늘시가 - 전날시가) / 전날시가 * 100  => 시가 등락률\n",
    "df['rateOpen'] = df['open'].pct_change().fillna(0) * 100\n",
    "\n",
    "# 6. rateClose: (오늘종가 - 전날종가) / 전날종가 * 100  => 종가 등락률\n",
    "df['rateClose'] = df['close'].pct_change().fillna(0) * 100\n",
    "\n",
    "# 7. rateDiff_OC: (오늘종가 - 오늘시가) / 오늘시가 * 100  => 일일 등락률\n",
    "df['rateDiff_OC'] = ((df['close'] - df['open']) / df['open']).fillna(0) * 100\n",
    "\n",
    "# 8. rateDiff_CO: (오늘시가 - 전날종가) / 전날종가 * 100  => 일간 등락률\n",
    "df['rateDiff_CO'] = ((df['open'] - df['close'].shift(1)) / df['close'].shift(1)).fillna(0) * 100\n",
    "\n",
    "# 9. 타입 정리\n",
    "df['open'] = df['open'].astype(int)\n",
    "df['close'] = df['close'].astype(int)\n",
    "df = df[['date', 'open', 'close', 'diff', 'rateOpen', 'rateClose', 'rateDiff_OC', 'rateDiff_CO']]\n",
    "\n",
    "# 10. 소수점 자리수 정리\n",
    "df['rateOpen'] = df['rateOpen'].round(2)\n",
    "df['rateClose'] = df['rateClose'].round(2)\n",
    "df['rateDiff_OC'] = df['rateDiff_OC'].round(2)\n",
    "df['rateDiff_CO'] = df['rateDiff_CO'].round(2)\n",
    "\n",
    "print(df.head(10))\n"
   ]
  },
  {
   "cell_type": "code",
   "execution_count": 22,
   "id": "0c537c20",
   "metadata": {},
   "outputs": [
    {
     "name": "stdout",
     "output_type": "stream",
     "text": [
      "20일치 주가 데이터 수집하여 CSV 파일(data/20250602_144232_stockPrice.csv)로 저장하였습니다.\n"
     ]
    }
   ],
   "source": [
    "# DataFrame을 csv 파일로 출력력\n",
    "\n",
    "uniqueTime = datetime.now().strftime('%Y%m%d_%H%M%S')\n",
    "file_path_csv = f'data/{uniqueTime}_stockPrice.csv'\n",
    "#file_path_excel = f'data/{uniqueTime}_stockPrice.xlsx'\n",
    "\n",
    "df.to_csv(file_path_csv, index = False, encoding = \"utf-8-sig\")\n",
    "print(f\"{len(df)}일치 주가 데이터 수집하여 CSV 파일({file_path_csv})로 저장하였습니다.\")"
   ]
  },
  {
   "cell_type": "code",
   "execution_count": null,
   "id": "cee00f6b",
   "metadata": {},
   "outputs": [
    {
     "name": "stdout",
     "output_type": "stream",
     "text": [
      "✅ API로 30일치 데이터 수집 완료\n",
      "          date  close  diff  rate\n",
      "0   2025.06.02  56900   700  1.25\n",
      "1   2025.05.30  56200   100  0.18\n",
      "2   2025.05.29  56100   200  0.36\n",
      "3   2025.05.28  55900  2000  3.71\n",
      "4   2025.05.27  53900  -800 -1.46\n",
      "5   2025.05.26  54700   500  0.92\n",
      "6   2025.05.23  54200  -500 -0.91\n",
      "7   2025.05.22  54700 -1000 -1.80\n",
      "8   2025.05.21  55700  -200 -0.36\n",
      "9   2025.05.20  55900   100  0.18\n",
      "10  2025.05.19  55800 -1000 -1.76\n",
      "11  2025.05.16  56800  -500 -0.87\n",
      "12  2025.05.15  57300  -100 -0.17\n",
      "13  2025.05.14  57400   500  0.88\n",
      "14  2025.05.13  56900  -700 -1.22\n",
      "15  2025.05.12  57600  2800  5.11\n",
      "16  2025.05.09  54800   200  0.37\n",
      "17  2025.05.08  54600     0  0.00\n",
      "18  2025.05.07  54600   300  0.55\n",
      "19  2025.05.02  54300 -1200 -2.16\n",
      "20  2025.04.30  55500  -300 -0.54\n",
      "21  2025.04.29  55800     0  0.00\n",
      "22  2025.04.28  55800   100  0.18\n",
      "23  2025.04.25  55700     0  0.00\n",
      "24  2025.04.24  55700     0  0.00\n",
      "25  2025.04.23  55700   700  1.27\n",
      "26  2025.04.22  55000  -400 -0.72\n",
      "27  2025.04.21  55400   100  0.18\n",
      "28  2025.04.18  55300   200  0.36\n",
      "29  2025.04.17  55100   400  0.73\n"
     ]
    }
   ],
   "source": [
    "# 다음 파이낸스 주가 정보\n",
    "\n",
    "\n",
    "import requests\n",
    "import pandas as pd\n",
    "\n",
    "def get_daum_stock_data(stock_code):\n",
    "    url = f'https://finance.daum.net/api/quote/A{stock_code}/days?symbolCode=A{stock_code}&page=1&perPage=30'\n",
    "    \n",
    "    headers = {\n",
    "        'User-Agent': 'Mozilla/5.0 (Windows NT 10.0; Win64; x64) AppleWebKit/537.36',\n",
    "        'Referer': f'https://finance.daum.net/quotes/A{stock_code}'\n",
    "    }\n",
    "    \n",
    "    response = requests.get(url, headers=headers)\n",
    "    if response.status_code == 200:\n",
    "        data = response.json()\n",
    "        df = pd.DataFrame(data['data'])\n",
    "        df = df[['date', 'tradePrice', 'changePrice', 'changeRate']]\n",
    "        df.columns = ['date', 'close', 'diff', 'rate']\n",
    "\n",
    "        # 날짜만 추출 (YYYY-MM-DD → YYYY.MM.DD)\n",
    "        df['date'] = pd.to_datetime(df['date'].str[:10]).dt.strftime('%Y.%m.%d')\n",
    "\n",
    "        # close, diff를 int로 변환 (소수점 버림)\n",
    "        df['close'] = df['close'].astype(int)\n",
    "        df['diff'] = df['diff'].astype(int)\n",
    "\n",
    "        # rate를 % 수치로 변환 (예: 0.83 → 83.0)\n",
    "        df['rate'] = (df['rate'] * 100).round(2)\n",
    "\n",
    "        print(f\"✅ API로 {len(df)}일치 데이터 수집 완료\")\n",
    "        return df\n",
    "    else:\n",
    "        print(f\"❌ API 요청 실패: {response.status_code}\")\n",
    "        return None\n",
    "\n",
    "# 사용 예시\n",
    "df = get_daum_stock_data('005930')\n",
    "if df is not None:\n",
    "    print(df)\n"
   ]
  },
  {
   "cell_type": "code",
   "execution_count": 20,
   "id": "2c08dbb6",
   "metadata": {},
   "outputs": [
    {
     "name": "stdout",
     "output_type": "stream",
     "text": [
      "30일치 주가 데이터 수집하여 CSV 파일(data/20250602_112942_stockPrice.csv)로 저장하였습니다.\n"
     ]
    }
   ],
   "source": [
    "# DataFrame을 csv 파일로 출력력\n",
    "\n",
    "uniqueTime = datetime.now().strftime('%Y%m%d_%H%M%S')\n",
    "file_path_csv = f'data/{uniqueTime}_stockPrice.csv'\n",
    "#file_path_excel = f'data/{uniqueTime}_stockPrice.xlsx'\n",
    "\n",
    "df.to_csv(file_path_csv, index = False, encoding = \"utf-8-sig\")\n",
    "print(f\"{len(df)}일치 주가 데이터 수집하여 CSV 파일({file_path_csv})로 저장하였습니다.\")"
   ]
  }
 ],
 "metadata": {
  "kernelspec": {
   "display_name": "Python 3",
   "language": "python",
   "name": "python3"
  },
  "language_info": {
   "codemirror_mode": {
    "name": "ipython",
    "version": 3
   },
   "file_extension": ".py",
   "mimetype": "text/x-python",
   "name": "python",
   "nbconvert_exporter": "python",
   "pygments_lexer": "ipython3",
   "version": "3.11.9"
  }
 },
 "nbformat": 4,
 "nbformat_minor": 5
}
