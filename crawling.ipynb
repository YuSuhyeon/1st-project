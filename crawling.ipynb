{
 "cells": [
  {
   "cell_type": "markdown",
   "id": "f0c00c59",
   "metadata": {},
   "source": [
    "## 뉴스 Crawling ㄱㄱ"
   ]
  },
  {
   "cell_type": "code",
   "execution_count": null,
   "id": "be98fbb2",
   "metadata": {},
   "outputs": [],
   "source": [
    "# 일단 다 긁어온거라 추후에 필요없는건 삭제 필요요\n",
    "\n",
    "from selenium.webdriver import Chrome\n",
    "from selenium.webdriver.common.by import By\n",
    "from selenium.webdriver.common.keys import Keys\n",
    "from bs4 import BeautifulSoup\n",
    "import requests\n",
    "import pandas as pd\n",
    "import numpy as np\n",
    "import time\n",
    "from datetime import datetime\n",
    "import math\n",
    "\n",
    "\n",
    "# --------------------------------------\n",
    "# 웹페이지 열고 이동하기 \n",
    "# --------------------------------------\n",
    "driver = Chrome()\n",
    "\n",
    "# 브라우저 크기 최대화\n",
    "driver.maximize_window()"
   ]
  },
  {
   "cell_type": "code",
   "execution_count": 2,
   "id": "7f2bcbf7",
   "metadata": {},
   "outputs": [],
   "source": [
    "# --------------------------------------\n",
    "# 종목 코드 이용하여 주식 뉴스 페이지 들어가기\n",
    "# --------------------------------------\n",
    "stockCode = '005930' # 삼성전자 종목 코드\n",
    "url = 'https://finance.naver.com/item/news.naver?code=' + stockCode\n",
    "driver.get(url)"
   ]
  },
  {
   "cell_type": "code",
   "execution_count": null,
   "id": "f3203e6b",
   "metadata": {},
   "outputs": [
    {
     "name": "stdout",
     "output_type": "stream",
     "text": [
      "iframe 개수: 8\n"
     ]
    }
   ],
   "source": [
    "# 그냥 테스트용. 필수 X\n",
    "\n",
    "\n",
    "# iframe이 있는지 확인\n",
    "iframes = driver.find_elements(By.TAG_NAME, \"iframe\")\n",
    "print(f\"iframe 개수: {len(iframes)}\")\n",
    "\n",
    "# iframe 내부로 전환 (필요한 경우)\n",
    "if len(iframes) > 0:\n",
    "    driver.switch_to.frame(iframes[0])  # 첫 번째 iframe으로 전환\n",
    "    title_elements = driver.find_elements(By.CSS_SELECTOR, \"td.title\")\n",
    "    # 작업 완료 후 다시 메인 프레임으로 돌아가기\n",
    "    # driver.switch_to.default_content()\n"
   ]
  },
  {
   "cell_type": "code",
   "execution_count": 3,
   "id": "a42a296e",
   "metadata": {},
   "outputs": [],
   "source": [
    "# iframe으로 전환 (name 또는 id 사용 가능)\n",
    "driver.switch_to.frame(\"news_frame\")  # 또는 driver.switch_to.frame(\"news_frame\")\n"
   ]
  },
  {
   "cell_type": "code",
   "execution_count": 4,
   "id": "aa43e5a1",
   "metadata": {},
   "outputs": [
    {
     "name": "stdout",
     "output_type": "stream",
     "text": [
      "0 코스피, 외인 매도에 1%대 하락…코스닥도 재차 약세 이데일리 2025.05.30 13:56\n",
      "1 '대어' 압구정2 놓고 삼성 vs 현대 재격돌…수주전 본격화(종합) 연합뉴스 2025.05.30 13:17\n",
      "2 ‘국제학교 품은 학세권’ ‘평택 고덕 A48블록 금성백조 예미지’에..... 서울경제 2025.05.30 12:59\n",
      "3 창업·스타트업 지원 공약…지식산업센터 호재될까 매일경제 2025.05.30 12:59\n",
      "4 \"월급이 의느님 2배\"...'삼성 고시'에 베트남 전국 수재들 다 모였... 파이낸셜뉴스 2025.05.30 12:08\n",
      "5 코스피 5000, 아주 불가능한 건 아니다? 대통령 누가돼도 우상향이라... YTN 2025.05.30 11:52\n",
      "6 \"어린이 2명 중 1명, 보행 중 스마트폰 사용한다\" 파이낸셜뉴스 2025.05.30 11:45\n",
      "7 삼성화재, 아이들 보행 중 폰 사용 줄였다…전용 앱까지 출시 삼성화재, 아이들 보행 중 폰 사용 줄였다…전용 앱까지 출시 매일경제\n",
      "8 삼성화재, 아이들 보행 중 폰 사용 줄였다…전용 앱까지 출시 매일경제 2025.05.30 10:12\n",
      "9   \n",
      "10   \n",
      "11   \n",
      "12   \n",
      "13 증권사 CMA 금리도 '인하 바람'…신용융자는 요지부동? SBS Biz 2025.05.30 11:43\n",
      "14 하반기 위기극복 해법은?...재계, 내달 전략회의 '소집' 데일리안 2025.05.30 11:41\n",
      "15 단기급등 부담?…코스피 사흘만에 하락 SBS Biz 2025.05.30 11:40\n"
     ]
    }
   ],
   "source": [
    "# 모든 tr 선택\n",
    "rows = driver.find_elements(By.CSS_SELECTOR, \"table.type5 > tbody > tr\")\n",
    "\n",
    "for i, row in enumerate(rows):\n",
    "    # tr의 class 속성 가져오기\n",
    "    tr_class = row.get_attribute(\"class\")\n",
    "    if tr_class and \"relation_lst_cluster\" in tr_class:\n",
    "        continue  # relation_lst가 포함된 tr은 건너뜀  ---> 제대로 작동 안 됨\n",
    "\n",
    "    tds = row.find_elements(By.TAG_NAME, \"td\")\n",
    "    if len(tds) >= 3:\n",
    "        try:\n",
    "            newsTitle = tds[0].find_element(By.TAG_NAME, \"a\").text\n",
    "        except:\n",
    "            newsTitle = \"\"\n",
    "        newsFrom = tds[1].text\n",
    "        newsDate = tds[2].text\n",
    "        print(i, newsTitle, newsFrom, newsDate)\n"
   ]
  }
 ],
 "metadata": {
  "kernelspec": {
   "display_name": "Python 3",
   "language": "python",
   "name": "python3"
  },
  "language_info": {
   "codemirror_mode": {
    "name": "ipython",
    "version": 3
   },
   "file_extension": ".py",
   "mimetype": "text/x-python",
   "name": "python",
   "nbconvert_exporter": "python",
   "pygments_lexer": "ipython3",
   "version": "3.11.9"
  }
 },
 "nbformat": 4,
 "nbformat_minor": 5
}
